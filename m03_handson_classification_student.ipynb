{
 "cells": [
  {
   "cell_type": "markdown",
   "id": "26e22c16-68b6-4879-9256-6e3030754591",
   "metadata": {},
   "source": [
    "# Module 3: Naive Bayes' Classification"
   ]
  },
  {
   "cell_type": "code",
   "execution_count": null,
   "id": "c6f2bcd6-713e-43bf-8351-98b69b839160",
   "metadata": {},
   "outputs": [],
   "source": [
    "import pandas as pd\n",
    "import numpy as np"
   ]
  },
  {
   "cell_type": "code",
   "execution_count": 23,
   "id": "c47166d0-3a0b-4566-adb0-602355f43f37",
   "metadata": {},
   "outputs": [],
   "source": [
    "# data shown in class\n",
    "\n",
    "data = [['M', 1, 0],\n",
    "        ['M', 1, 1],\n",
    "        ['R', 1, 1],\n",
    "        ['R', 1, 1],\n",
    "        ['M', 0, 1],\n",
    "        ['M', 1, 1],\n",
    "        ['R', 0, 1],\n",
    "        ['R', 1, 0],\n",
    "        ['R', 0, 0]]\n",
    "\n",
    "df_MR = pd.DataFrame(data, columns = ['label', 'f1', 'f2'])"
   ]
  },
  {
   "cell_type": "code",
   "execution_count": 7,
   "id": "bad4d6bd-f07e-401a-992a-ed023a183876",
   "metadata": {},
   "outputs": [
    {
     "data": {
      "text/html": [
       "<div>\n",
       "<style scoped>\n",
       "    .dataframe tbody tr th:only-of-type {\n",
       "        vertical-align: middle;\n",
       "    }\n",
       "\n",
       "    .dataframe tbody tr th {\n",
       "        vertical-align: top;\n",
       "    }\n",
       "\n",
       "    .dataframe thead th {\n",
       "        text-align: right;\n",
       "    }\n",
       "</style>\n",
       "<table border=\"1\" class=\"dataframe\">\n",
       "  <thead>\n",
       "    <tr style=\"text-align: right;\">\n",
       "      <th></th>\n",
       "      <th>label</th>\n",
       "      <th>f1</th>\n",
       "      <th>f2</th>\n",
       "    </tr>\n",
       "  </thead>\n",
       "  <tbody>\n",
       "    <tr>\n",
       "      <th>0</th>\n",
       "      <td>M</td>\n",
       "      <td>1</td>\n",
       "      <td>0</td>\n",
       "    </tr>\n",
       "    <tr>\n",
       "      <th>1</th>\n",
       "      <td>M</td>\n",
       "      <td>1</td>\n",
       "      <td>1</td>\n",
       "    </tr>\n",
       "    <tr>\n",
       "      <th>2</th>\n",
       "      <td>R</td>\n",
       "      <td>1</td>\n",
       "      <td>1</td>\n",
       "    </tr>\n",
       "    <tr>\n",
       "      <th>3</th>\n",
       "      <td>R</td>\n",
       "      <td>1</td>\n",
       "      <td>1</td>\n",
       "    </tr>\n",
       "    <tr>\n",
       "      <th>4</th>\n",
       "      <td>M</td>\n",
       "      <td>0</td>\n",
       "      <td>1</td>\n",
       "    </tr>\n",
       "    <tr>\n",
       "      <th>5</th>\n",
       "      <td>M</td>\n",
       "      <td>1</td>\n",
       "      <td>1</td>\n",
       "    </tr>\n",
       "    <tr>\n",
       "      <th>6</th>\n",
       "      <td>R</td>\n",
       "      <td>0</td>\n",
       "      <td>1</td>\n",
       "    </tr>\n",
       "    <tr>\n",
       "      <th>7</th>\n",
       "      <td>R</td>\n",
       "      <td>1</td>\n",
       "      <td>0</td>\n",
       "    </tr>\n",
       "    <tr>\n",
       "      <th>8</th>\n",
       "      <td>R</td>\n",
       "      <td>0</td>\n",
       "      <td>0</td>\n",
       "    </tr>\n",
       "  </tbody>\n",
       "</table>\n",
       "</div>"
      ],
      "text/plain": [
       "  label  f1  f2\n",
       "0     M   1   0\n",
       "1     M   1   1\n",
       "2     R   1   1\n",
       "3     R   1   1\n",
       "4     M   0   1\n",
       "5     M   1   1\n",
       "6     R   0   1\n",
       "7     R   1   0\n",
       "8     R   0   0"
      ]
     },
     "execution_count": 7,
     "metadata": {},
     "output_type": "execute_result"
    }
   ],
   "source": [
    "df_MR"
   ]
  },
  {
   "cell_type": "code",
   "execution_count": 24,
   "id": "ed555a9a-5aa0-40df-833a-95002e004a3e",
   "metadata": {},
   "outputs": [],
   "source": [
    "# function to get compute P(M|f1)\n",
    "\n",
    "def get_prob_M_f1(df, f1):\n",
    "    \n",
    "    # total number of datapoints\n",
    "    n_all = \n",
    "    \n",
    "    # total # of mammals in the dataset\n",
    "    n_M = \n",
    "    \n",
    "    # total # of reptiles\n",
    "    n_R = \n",
    "    \n",
    "    # total # of mammals with the given feature value\n",
    "    n_M_f1 = \n",
    "    \n",
    "    # total # of reptiles with the given feature value\n",
    "    n_R_f1 = \n",
    "    \n",
    "    # compute terms in Bayes' formula\n",
    "    prob_M    = \n",
    "    prob_f1_M = \n",
    "\n",
    "    prob_R    = \n",
    "    prob_f1_R = \n",
    "    \n",
    "    prob_M_f1 = \n",
    "    \n",
    "    return prob_M_f1"
   ]
  },
  {
   "cell_type": "code",
   "execution_count": 26,
   "id": "0529f3b7-1e57-465d-94b1-2cbabd042320",
   "metadata": {},
   "outputs": [
    {
     "data": {
      "text/plain": [
       "0.5"
      ]
     },
     "execution_count": 26,
     "metadata": {},
     "output_type": "execute_result"
    }
   ],
   "source": [
    "get_prob_M_f1(df_MR, 1)"
   ]
  }
 ],
 "metadata": {
  "kernelspec": {
   "display_name": "Python 3 (ipykernel)",
   "language": "python",
   "name": "python3"
  },
  "language_info": {
   "codemirror_mode": {
    "name": "ipython",
    "version": 3
   },
   "file_extension": ".py",
   "mimetype": "text/x-python",
   "name": "python",
   "nbconvert_exporter": "python",
   "pygments_lexer": "ipython3",
   "version": "3.8.15"
  }
 },
 "nbformat": 4,
 "nbformat_minor": 5
}
