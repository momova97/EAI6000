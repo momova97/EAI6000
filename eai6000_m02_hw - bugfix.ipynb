{
  "cells": [
    {
      "cell_type": "markdown",
      "metadata": {
        "id": "dB4_y4GBm0tt"
      },
      "source": [
        "# A-Star Search Algorithm"
      ]
    },
    {
      "cell_type": "markdown",
      "metadata": {
        "id": "hRmWMPwTm5Ob"
      },
      "source": [
        "This notebook complements the walkthrough article [here](https://towardsdatascience.com/a-star-a-search-algorithm-eb495fb156bb) on the A-Star search algorithm. Throughout the notebook, we ask to you finish sections on your own and answer questions."
      ]
    },
    {
      "cell_type": "markdown",
      "metadata": {
        "id": "auBnTGWHoMle"
      },
      "source": [
        "## [Question - Describe A*]\n",
        "Describe A* search in your own words."
      ]
    },
    {
      "attachments": {},
      "cell_type": "markdown",
      "metadata": {},
      "source": [
        "The A* algorithm combines the advantages of Dijkstra's algorithm and Greedy search to be used as a best-first searching method for finding the shortest path in a network or graph. The algorithm's cost function is defined as f = g + h, where g is what it costs from the start node to the current node and h is the heuristic anticipation to the destination."
      ]
    },
    {
      "cell_type": "markdown",
      "metadata": {
        "id": "FsP7pSLAoooN"
      },
      "source": [
        "## [Question - Describe h and g]\n",
        "In A* search, describe the two key elements of *f(n)* (namely *h(n)* and *g(n)*). What do they represent in the algorithm and how do they differ?"
      ]
    },
    {
      "attachments": {},
      "cell_type": "markdown",
      "metadata": {},
      "source": [
        "h(n) and g(n) are the main components of the cost function in the A* search. The anticipated cost from node n to the goal node is represented by the heuristic function h(n). The algorithm tends to give priority to nodes with lower h(n) values by relying on an optimistic projection of the remaining cost to achieve the goal. The path's real cost from the start node to node n is represented by g(n), which also maintains track of the total cost carried out so far.\n",
        "\n",
        "The main difference between h(n) and g(n) is in their goals and the data they provide to the algorithm. h(n) offers a heuristic estimate to help direct the search in the right direction while g(n) is used to evaluate the actual cost paid from the start node to the current node."
      ]
    },
    {
      "cell_type": "markdown",
      "metadata": {
        "id": "-_VkEgNWuMDK"
      },
      "source": [
        "## [Activity - run Node]\n",
        "Examine and run the below code."
      ]
    },
    {
      "cell_type": "code",
      "execution_count": 2,
      "metadata": {
        "id": "ufRvBVJBmmxA"
      },
      "outputs": [],
      "source": [
        "\n",
        "class Node():\n",
        "    \"\"\"A node class for A* Pathfinding\"\"\"\n",
        "\n",
        "    def __init__(self, parent=None, position=None):\n",
        "        self.parent = parent\n",
        "        self.position = position\n",
        "\n",
        "        self.g = 0\n",
        "        self.h = 0\n",
        "        self.f = 0\n",
        "\n",
        "    def __eq__(self, other):\n",
        "        return self.position == other.position\n",
        "    \n",
        "\n"
      ]
    },
    {
      "cell_type": "markdown",
      "metadata": {
        "id": "Ucsmb_lfuTrp"
      },
      "source": [
        "## [Question - Explain 'Node']\n",
        "In your own words, describe what the purpose of the *Node* class is. Why do we have to initialize a parent and a position?"
      ]
    },
    {
      "attachments": {},
      "cell_type": "markdown",
      "metadata": {},
      "source": [
        "The Node class is built for A* Pathfinding and represents a grid square. It holds a parent node for path tracing and a grid position. Cost variables 'g', 'h', and 'f' are initialized to zero. 'g' is the actual cost from the start, 'h' is the heuristic to the goal, and 'f' is usually 'g + h'. The class includes an __init__ method for initialization and an __eq__ method to compare node positions."
      ]
    },
    {
      "cell_type": "markdown",
      "metadata": {
        "id": "B6s0TVMuur8t"
      },
      "source": [
        "## [Activity - Run astar() ]"
      ]
    },
    {
      "cell_type": "code",
      "execution_count": 10,
      "metadata": {
        "id": "wYzrkdjZpxZs"
      },
      "outputs": [],
      "source": [
        "def astar(maze, start, end):\n",
        "    \"\"\"Returns a list of tuples as a path from the given start to the given end in the given maze\"\"\"\n",
        "\n",
        "    # Create start and end node\n",
        "    start_node = Node(None, start)\n",
        "    start_node.g = start_node.h = start_node.f = 0\n",
        "    end_node = Node(None, end)\n",
        "    end_node.g = end_node.h = end_node.f = 0\n",
        "    \n",
        "\n",
        "    # Initialize both open and closed list\n",
        "    open_list = []\n",
        "    closed_list = []\n",
        "\n",
        "    # Add the start node\n",
        "    open_list.append(start_node)\n",
        "\n",
        "    # Loop until you find the end\n",
        "    while len(open_list) > 0:\n",
        "\n",
        "        # Get the current node\n",
        "        current_node = open_list[0]\n",
        "        current_index = 0\n",
        "        for index, item in enumerate(open_list):\n",
        "            if item.f < current_node.f:\n",
        "                current_node = item\n",
        "                current_index = index\n",
        "\n",
        "        # Pop current off open list, add to closed list\n",
        "        open_list.pop(current_index)\n",
        "        closed_list.append(current_node)\n",
        "\n",
        "        # Found the goal\n",
        "        if current_node == end_node:\n",
        "            path = []\n",
        "            current = current_node\n",
        "            while current is not None:\n",
        "                path.append(current.position)\n",
        "                current = current.parent\n",
        "            return path[::-1] # Return reversed path\n",
        "\n",
        "        # Generate children\n",
        "        children = []\n",
        "        for new_position in [(0, -1), (0, 1), (-1, 0), (1, 0), (-1, -1), (-1, 1), (1, -1), (1, 1)]: # Adjacent squares\n",
        "\n",
        "            # Get node position\n",
        "            node_position = (current_node.position[0] + new_position[0], current_node.position[1] + new_position[1])\n",
        "\n",
        "            # Make sure within range\n",
        "            if node_position[0] > (len(maze) - 1) or node_position[0] < 0 or node_position[1] > (len(maze[len(maze)-1]) -1) or node_position[1] < 0:\n",
        "                continue\n",
        "\n",
        "            # Make sure walkable terrain\n",
        "            if maze[node_position[0]][node_position[1]] != 0:\n",
        "                continue\n",
        "\n",
        "            # Create new node\n",
        "            new_node = Node(current_node, node_position)\n",
        "\n",
        "            # Append\n",
        "            children.append(new_node)\n",
        "\n",
        "        # Loop through children\n",
        "        for child in children:\n",
        "\n",
        "            # Child is on the closed list\n",
        "            if child in closed_list:\n",
        "              continue\n",
        "\n",
        "            # Create the f, g, and h values\n",
        "            child.g = current_node.g + 1\n",
        "            child.h = ((child.position[0] - end_node.position[0]) ** 2) + ((child.position[1] - end_node.position[1]) ** 2)\n",
        "            #child.h = abs(child.position[0] - end_node.position[0]) + abs(child.position[1] - end_node.position[1])\n",
        "            child.f = child.g + child.h\n",
        "\n",
        "            # Child is already in the open list\n",
        "            for open_node in open_list:\n",
        "                if child == open_node and child.g > open_node.g:\n",
        "                    continue\n",
        "\n",
        "            # Add the child to the open list\n",
        "            open_list.append(child)\n",
        "\n",
        "\n"
      ]
    },
    {
      "cell_type": "code",
      "execution_count": 18,
      "metadata": {},
      "outputs": [
        {
          "data": {
            "text/plain": [
              "(45, 42)"
            ]
          },
          "execution_count": 18,
          "metadata": {},
          "output_type": "execute_result"
        }
      ],
      "source": [
        "# Define the modified A* function that looks two levels deep (children and grandchildren)\n",
        "def astar_two_levels(maze, start, end):\n",
        "    start_node = Node(None, start)\n",
        "    start_node.g = start_node.h = start_node.f = 0\n",
        "    end_node = Node(None, end)\n",
        "    end_node.g = end_node.h = end_node.f = 0\n",
        "\n",
        "    open_list = []\n",
        "    closed_list = []\n",
        "    open_list.append(start_node)\n",
        "\n",
        "    while len(open_list) > 0:\n",
        "        current_node = min(open_list, key=lambda o: o.f)\n",
        "        open_list.remove(current_node)\n",
        "        closed_list.append(current_node)\n",
        "\n",
        "        if current_node == end_node:\n",
        "            path = []\n",
        "            current = current_node\n",
        "            while current is not None:\n",
        "                path.append(current.position)\n",
        "                current = current.parent\n",
        "            return path[::-1]\n",
        "\n",
        "        children = []\n",
        "        for new_position in [(0, -1), (0, 1), (-1, 0), (1, 0), (-1, -1), (-1, 1), (1, -1), (1, 1)]:\n",
        "            node_position = (current_node.position[0] + new_position[0], current_node.position[1] + new_position[1])\n",
        "\n",
        "            if node_position[0] > (len(maze) - 1) or node_position[0] < 0 or node_position[1] > (len(maze[len(maze) - 1]) - 1) or node_position[1] < 0:\n",
        "                continue\n",
        "\n",
        "            if maze[node_position[0]][node_position[1]] != 0:\n",
        "                continue\n",
        "\n",
        "            new_node = Node(current_node, node_position)\n",
        "            children.append(new_node)\n",
        "\n",
        "            # Generate grandchildren for each child node\n",
        "            grandchildren = []\n",
        "            for new_position in [(0, -1), (0, 1), (-1, 0), (1, 0), (-1, -1), (-1, 1), (1, -1), (1, 1)]:\n",
        "                grandchild_position = (new_node.position[0] + new_position[0], new_node.position[1] + new_position[1])\n",
        "                \n",
        "                if grandchild_position[0] > (len(maze) - 1) or grandchild_position[0] < 0 or grandchild_position[1] > (len(maze[len(maze) - 1]) - 1) or grandchild_position[1] < 0:\n",
        "                    continue\n",
        "\n",
        "                if maze[grandchild_position[0]][grandchild_position[1]] != 0:\n",
        "                    continue\n",
        "\n",
        "                new_grandchild = Node(new_node, grandchild_position)\n",
        "                grandchildren.append(new_grandchild)\n",
        "            \n",
        "            children.extend(grandchildren)\n",
        "\n",
        "        for child in children:\n",
        "            if child in closed_list:\n",
        "                continue\n",
        "\n",
        "            child.g = current_node.g + 1  # Increment by 1 for child nodes\n",
        "            child.h = ((child.position[0] - end_node.position[0]) ** 2) + ((child.position[1] - end_node.position[1]) ** 2)\n",
        "            child.f = child.g + child.h\n",
        "\n",
        "            for open_node in open_list:\n",
        "                if child == open_node and child.g > open_node.g:\n",
        "                    continue\n",
        "\n",
        "            open_list.append(child)\n",
        "\n",
        "# Run the original and modified A* algorithms and measure the length of the resulting paths\n",
        "path_original = astar(maze, start, stop)\n",
        "path_modified = astar_two_levels(maze, start, stop)\n",
        "\n",
        "# Calculate the length of the paths\n",
        "length_original = len(path_original) if path_original else \"No path found\"\n",
        "length_modified = len(path_modified) if path_modified else \"No path found\"\n",
        "\n",
        "length_original, length_modified\n"
      ]
    },
    {
      "cell_type": "markdown",
      "metadata": {
        "id": "hral7UX2vF0z"
      },
      "source": [
        "## [Question - Explain maze]\n",
        "What type of input should value of *maze* be?"
      ]
    },
    {
      "attachments": {},
      "cell_type": "markdown",
      "metadata": {},
      "source": [
        "\n",
        "The maze variable is expected to be a list (or array) where each element represents a square on the grid. A value of 0 would indicate an open or walkable square.\n",
        "A value 1 would indicate an obstacle, wall, or non-walkable square."
      ]
    },
    {
      "cell_type": "markdown",
      "metadata": {
        "id": "EcB70Wbet1-w"
      },
      "source": [
        "## [Question - Build Main]\n",
        "Please use the above code that uses the astar() function to define a path from the beginning to the end of a maze. You can choose how the maze looks and where the start and end are."
      ]
    },
    {
      "cell_type": "code",
      "execution_count": 13,
      "metadata": {
        "id": "MY8tTsSbt1XE"
      },
      "outputs": [
        {
          "data": {
            "image/png": "[encoded data removed]",
            "text/plain": [
              "<Figure size 640x480 with 1 Axes>"
            ]
          },
          "metadata": {},
          "output_type": "display_data"
        }
      ],
      "source": [
        "import random\n",
        "import matplotlib.pyplot as plt\n",
        "import numpy as np\n",
        "\n",
        "GRID_SIZE = 30  # Define the dimensions of the grid\n",
        "maze = np.zeros((GRID_SIZE, GRID_SIZE))\n",
        "\n",
        "# Randomize the start and stop nodes\n",
        "start = (random.randint(0, GRID_SIZE - 1), random.randint(0, GRID_SIZE - 1))\n",
        "stop = (random.randint(0, GRID_SIZE - 1), random.randint(0, GRID_SIZE - 1))\n",
        "\n",
        "# Ensure that the start and stop nodes are not the same\n",
        "#while start == stop:\n",
        "#   stop = (random.randint(0, GRID_SIZE - 1), random.randint(0, GRID_SIZE - 1))\n",
        "    \n",
        "#fixed start and stop nodes\n",
        "start = (0,0)\n",
        "stop = (GRID_SIZE-1,GRID_SIZE-1)\n",
        "\n",
        "# Generate Obstacle Count\n",
        "# The number of obstacles is a random integer between 5% to 10% of the total grid squares.\n",
        "num_obstacles = random.randint(GRID_SIZE * GRID_SIZE // 20, GRID_SIZE * GRID_SIZE // 10)\n",
        "\n",
        "\n",
        "# Populate grid with obstacles represented by 1\n",
        "for _ in range(num_obstacles):\n",
        "    obstacle = (np.random.randint(0, GRID_SIZE), np.random.randint(0, GRID_SIZE))\n",
        "    # Ensure obstacle does not overlap with start or stop nodes\n",
        "    while obstacle == start or obstacle == stop:\n",
        "        obstacle = (np.random.randint(0, GRID_SIZE), np.random.randint(0, GRID_SIZE))\n",
        "    maze[obstacle] = 1\n",
        "\n",
        "maze_1 = maze.copy()\n",
        "# Draw the grid\n",
        "plt.imshow(maze, cmap='binary')\n",
        "plt.title('maze with Start, Stop, and Obstacles')\n",
        "# Draw the start and stop nodes as red and green squares respectively\n",
        "plt.plot(start[1], start[0], 'rs', markersize=12)\n",
        "plt.plot(stop[1], stop[0], 'gs', markersize=12)\n",
        "plt.xticks([])  # remove x-axis ticks and labels\n",
        "plt.yticks([])  # remove y-axis ticks and labels\n",
        "plt.show()"
      ]
    },
    {
      "cell_type": "code",
      "execution_count": 16,
      "metadata": {},
      "outputs": [
        {
          "data": {
            "image/png": "[encoded data removed]",
            "text/plain": [
              "<Figure size 640x480 with 1 Axes>"
            ]
          },
          "metadata": {},
          "output_type": "display_data"
        }
      ],
      "source": [
        "maze = maze_1.copy()\n",
        "# Add random short lines of obstacles to the maze\n",
        "num_short_lines = random.randint(GRID_SIZE * GRID_SIZE // 30, GRID_SIZE * GRID_SIZE // 20)  # Number of short lines to add\n",
        "\n",
        "for _ in range(num_short_lines):\n",
        "    # Randomly choose a starting point for the short line\n",
        "    line_start = (np.random.randint(0, GRID_SIZE), np.random.randint(0, GRID_SIZE))\n",
        "    \n",
        "    # Randomly determine the length and orientation (horizontal or vertical) of the line\n",
        "    line_length = np.random.randint(2, 7)  # Length between 2 and 6\n",
        "    orientation = np.random.choice(['horizontal', 'vertical'])\n",
        "    \n",
        "    # Generate the coordinates for the short line of obstacles\n",
        "    line_coordinates = []\n",
        "    for i in range(line_length):\n",
        "        if orientation == 'horizontal':\n",
        "            coord = (line_start[0], (line_start[1] + i) % GRID_SIZE)\n",
        "        else:\n",
        "            coord = ((line_start[0] + i) % GRID_SIZE, line_start[1])\n",
        "        \n",
        "        # Make sure the obstacle does not overlap with start, stop nodes, or existing obstacles\n",
        "        if coord != start and coord != stop and maze[coord] == 0:\n",
        "            line_coordinates.append(coord)\n",
        "    \n",
        "    # Place the short line of obstacles on the maze\n",
        "    for coord in line_coordinates:\n",
        "        maze[coord] = 1\n",
        "\n",
        "# Draw the modified grid with the short lines of obstacles\n",
        "plt.imshow(maze, cmap='binary')\n",
        "plt.title('Maze with Short Random Lines of Obstacles')\n",
        "# Draw the start and stop nodes as red and green squares respectively\n",
        "plt.plot(start[1], start[0], 'rs', markersize=12)\n",
        "plt.plot(stop[1], stop[0], 'gs', markersize=12)\n",
        "plt.xticks([])  # Remove x-axis ticks and labels\n",
        "plt.yticks([])  # Remove y-axis ticks and labels\n",
        "plt.show()\n",
        "# reset the plot settings\n",
        "plt.rcParams.update(plt.rcParamsDefault)\n",
        "\n",
        "\n"
      ]
    },
    {
      "cell_type": "code",
      "execution_count": 17,
      "metadata": {},
      "outputs": [
        {
          "data": {
            "image/png": "[encoded data removed]",
            "text/plain": [
              "<Figure size 640x480 with 1 Axes>"
            ]
          },
          "metadata": {},
          "output_type": "display_data"
        }
      ],
      "source": [
        "# Find the shortest path\n",
        "path = astar(maze, start, stop)\n",
        "\n",
        "# Draw the grid\n",
        "plt.title('Maze with Short Random Lines of Obstacles')\n",
        "plt.imshow(maze, cmap='binary')\n",
        "plt.xticks([])  # Remove x-axis ticks and labels\n",
        "plt.yticks([])  # Remove y-axis ticks and labels\n",
        "# Draw the start and stop nodes as red and green squares respectively\n",
        "plt.plot(start[1], start[0], 'rs', markersize=12)\n",
        "plt.plot(stop[1], stop[0], 'gs', markersize=12)\n",
        "# Draw the shortest path as a sequence of blue squares\n",
        "plt.plot([v[1] for v in path], [v[0] for v in path])\n",
        "plt.show()\n"
      ]
    },
    {
      "cell_type": "code",
      "execution_count": null,
      "metadata": {},
      "outputs": [],
      "source": []
    },
    {
      "cell_type": "markdown",
      "metadata": {
        "id": "_t_M9LWSwc79"
      },
      "source": [
        "## [Question - Impossible Maze]\n",
        "Now create a maze that the algorithm cannot solve. What is the output of the algorithm?"
      ]
    },
    {
      "cell_type": "code",
      "execution_count": 60,
      "metadata": {
        "id": "yoQ3fuVbwnuv"
      },
      "outputs": [
        {
          "data": {
            "image/png": "[encoded data removed]",
            "text/plain": [
              "<Figure size 640x480 with 1 Axes>"
            ]
          },
          "metadata": {},
          "output_type": "display_data"
        }
      ],
      "source": [
        "# Initialize a new grid with the same dimensions\n",
        "maze = np.zeros((GRID_SIZE, GRID_SIZE))\n",
        "\n",
        "# Place the previously randomized start and stop nodes\n",
        "maze[start] = 2  # Start node\n",
        "maze[stop] = 3  # Stop node\n",
        "\n",
        "# Create a line of obstacles between start and stop\n",
        "# For simplicity, a vertical line of obstacles will be created at the midpoint between start and stop\n",
        "midpoint_x = (start[1] + stop[1]) // 2\n",
        "\n",
        "for y in range(GRID_SIZE):\n",
        "    obstacle = (y, midpoint_x)\n",
        "    # Ensure the obstacle line does not overlap with start or stop nodes\n",
        "    if obstacle != start and obstacle != stop:\n",
        "        maze[obstacle] = 1\n",
        "\n",
        "# Draw the modified grid\n",
        "plt.imshow(maze, cmap='binary')\n",
        "plt.title('Maze with Line of Obstacles')\n",
        "# Draw the start and stop nodes as red and green squares respectively\n",
        "plt.plot(start[1], start[0], 'rs', markersize=12)\n",
        "plt.plot(stop[1], stop[0], 'gs', markersize=12)\n",
        "plt.xticks([])  # Remove x-axis ticks and labels\n",
        "plt.yticks([])  # Remove y-axis ticks and labels\n",
        "plt.show()"
      ]
    },
    {
      "cell_type": "code",
      "execution_count": 61,
      "metadata": {},
      "outputs": [
        {
          "ename": "KeyboardInterrupt",
          "evalue": "",
          "output_type": "error",
          "traceback": [
            "\u001b[0;31m---------------------------------------------------------------------------\u001b[0m",
            "\u001b[0;31mKeyboardInterrupt\u001b[0m                         Traceback (most recent call last)",
            "Cell \u001b[0;32mIn[61], line 2\u001b[0m\n\u001b[1;32m      1\u001b[0m \u001b[39m# Find the shortest path\u001b[39;00m\n\u001b[0;32m----> 2\u001b[0m path \u001b[39m=\u001b[39m astar(maze, start, stop)\n\u001b[1;32m      4\u001b[0m \u001b[39m# Draw the grid\u001b[39;00m\n\u001b[1;32m      5\u001b[0m plt\u001b[39m.\u001b[39mimshow(maze, cmap\u001b[39m=\u001b[39m\u001b[39m'\u001b[39m\u001b[39mbinary\u001b[39m\u001b[39m'\u001b[39m)\n",
            "Cell \u001b[0;32mIn[7], line 76\u001b[0m, in \u001b[0;36mastar\u001b[0;34m(maze, start, end)\u001b[0m\n\u001b[1;32m     74\u001b[0m \u001b[39m# Child is already in the open list\u001b[39;00m\n\u001b[1;32m     75\u001b[0m \u001b[39mfor\u001b[39;00m open_node \u001b[39min\u001b[39;00m open_list:\n\u001b[0;32m---> 76\u001b[0m     \u001b[39mif\u001b[39;00m child \u001b[39m==\u001b[39m open_node \u001b[39mand\u001b[39;00m child\u001b[39m.\u001b[39mg \u001b[39m>\u001b[39m open_node\u001b[39m.\u001b[39mg:\n\u001b[1;32m     77\u001b[0m         \u001b[39mcontinue\u001b[39;00m\n\u001b[1;32m     79\u001b[0m \u001b[39m# Add the child to the open list\u001b[39;00m\n",
            "\u001b[0;31mKeyboardInterrupt\u001b[0m: "
          ]
        }
      ],
      "source": [
        "# Find the shortest path\n",
        "path = astar(maze, start, stop)\n",
        "\n",
        "# Draw the grid\n",
        "plt.imshow(maze, cmap='binary')\n",
        "# Draw the start and stop nodes as red and green squares respectively\n",
        "plt.plot(start[1], start[0], 'rs', markersize=12)\n",
        "plt.plot(stop[1], stop[0], 'gs', markersize=12)\n",
        "# Draw the shortest path as a sequence of blue squares\n",
        "plt.plot([v[1] for v in path], [v[0] for v in path])"
      ]
    },
    {
      "attachments": {},
      "cell_type": "markdown",
      "metadata": {},
      "source": [
        "It just goes into an infinite loop"
      ]
    }
  ],
  "metadata": {
    "colab": {
      "collapsed_sections": [],
      "name": "eai6000-m02-hw.ipynb",
      "provenance": [],
      "toc_visible": true
    },
    "kernelspec": {
      "display_name": "Python 3 (ipykernel)",
      "language": "python",
      "name": "python3"
    },
    "language_info": {
      "codemirror_mode": {
        "name": "ipython",
        "version": 3
      },
      "file_extension": ".py",
      "mimetype": "text/x-python",
      "name": "python",
      "nbconvert_exporter": "python",
      "pygments_lexer": "ipython3",
      "version": "3.10.8"
    }
  },
  "nbformat": 4,
  "nbformat_minor": 0
}
