{
 "cells": [
  {
   "cell_type": "markdown",
   "id": "35299658-8ee0-4c20-a09f-997ec91498f1",
   "metadata": {},
   "source": [
    "# Week 2 - Search Algorithms\n",
    "## EAI 6000 "
   ]
  },
  {
   "cell_type": "code",
   "execution_count": null,
   "id": "08ee1501-9e24-4f92-a2cd-6073f051be08",
   "metadata": {},
   "outputs": [],
   "source": [
    "import math\n",
    "import numpy as np\n",
    "import matplotlib.pyplot as plt\n",
    "import copy\n",
    "import random\n",
    "from collections import deque"
   ]
  },
  {
   "cell_type": "markdown",
   "id": "e5abafb3-4306-491e-b848-d574eda46257",
   "metadata": {},
   "source": [
    "## DFS & BFS"
   ]
  },
  {
   "cell_type": "markdown",
   "id": "f2c70ca2-d0c2-4e50-8f02-f9c374054609",
   "metadata": {},
   "source": [
    "### function definitions"
   ]
  },
  {
   "cell_type": "code",
   "execution_count": 10,
   "id": "d561ab87-e94d-41a7-98a1-5920ec8d5861",
   "metadata": {},
   "outputs": [],
   "source": [
    "# Define the function to find neighbor nodes\n",
    "def find_neighbors(node, grid):\n",
    "    neighbors = []\n",
    "    for dx in [-1, 0, 1]:\n",
    "        for dy in [-1, 0, 1]:\n",
    "            if dx == 0 and dy == 0:\n",
    "                continue  # ignore the current node\n",
    "            x, y = node[0] + dx, node[1] + dy\n",
    "            if x < 0 or x >= len(grid) or y < 0 or y >= len(grid[0]):\n",
    "                continue  # ignore nodes outside the grid\n",
    "            if grid[x][y] == 'X':\n",
    "                continue  # ignore obstacles\n",
    "            neighbors.append((x, y))\n",
    "    return neighbors\n",
    "\n"
   ]
  },
  {
   "cell_type": "code",
   "execution_count": 11,
   "id": "83512b34-c6e9-4d77-b881-13cbb3dc3972",
   "metadata": {},
   "outputs": [],
   "source": [
    "\n",
    "def breadth_first_search(grid, start, stop, obstacles):\n",
    "    # Initialize the queue and visited set\n",
    "    queue = deque([start])\n",
    "    visited = set([start])\n",
    "\n",
    "    # Keep track of the paths\n",
    "    paths = {start: []}\n",
    "\n",
    "    # Loop until the queue is empty\n",
    "    while queue:\n",
    "        # Get the next node from the queue\n",
    "        current = queue.popleft()\n",
    "\n",
    "        # Check if we've reached the goal node\n",
    "        if current == stop:\n",
    "            path = paths[current] + [current]\n",
    "            return path\n",
    "\n",
    "        # Check the neighbors of the current node\n",
    "        for neighbor in find_neighbors(current, grid):\n",
    "            if neighbor in visited or neighbor in obstacles:\n",
    "                continue  # ignore nodes in the visited set or obstacles\n",
    "\n",
    "            # Add the neighbor to the queue and visited set\n",
    "            queue.append(neighbor)\n",
    "            visited.add(neighbor)\n",
    "\n",
    "            # Update the path to the neighbor\n",
    "            paths[neighbor] = paths[current] + [current]\n",
    "\n",
    "    # If we get here, there is no path from start to stop\n",
    "    print(\"No path found\")\n",
    "    return None\n"
   ]
  },
  {
   "cell_type": "code",
   "execution_count": 12,
   "id": "d630e5da-f858-410e-b727-5c907d0907cb",
   "metadata": {},
   "outputs": [],
   "source": [
    "def depth_first_search(grid, start, stop, obstacles):\n",
    "    # Initialize the stack and visited set\n",
    "    stack = [start]\n",
    "    visited = set([start])\n",
    "\n",
    "    # Keep track of the paths\n",
    "    paths = {start: []}\n",
    "\n",
    "    # Loop until the stack is empty\n",
    "    while stack:\n",
    "        # Get the next node from the stack\n",
    "        current = stack.pop()\n",
    "\n",
    "        # Check if we've reached the goal node\n",
    "        if current == stop:\n",
    "            path = paths[current] + [current]\n",
    "            return path\n",
    "\n",
    "        # Check the neighbors of the current node\n",
    "        for neighbor in find_neighbors(current, grid):\n",
    "            if neighbor in visited or neighbor in obstacles:\n",
    "                continue  # ignore nodes in the visited set or obstacles\n",
    "\n",
    "            # Add the neighbor to the stack and visited set\n",
    "            stack.append(neighbor)\n",
    "            visited.add(neighbor)\n",
    "\n",
    "            # Update the path to the neighbor\n",
    "            paths[neighbor] = paths[current] + [current]\n",
    "\n",
    "    # If we get here, there is no path from start to stop\n",
    "    print(\"No path found\")\n",
    "    return None\n"
   ]
  },
  {
   "cell_type": "code",
   "execution_count": 13,
   "id": "fe7420b6-ff7e-4b96-87b3-928e392614fd",
   "metadata": {},
   "outputs": [],
   "source": [
    "def make_obstacles(GRID_SIZE, num_obstacles, start, stop):\n",
    "    \n",
    "    # Generate a set of random obstacle coordinates\n",
    "    obstacles = set()\n",
    "    while len(obstacles) < num_obstacles:\n",
    "        obstacle = (random.randint(0, GRID_SIZE-1), random.randint(0, GRID_SIZE-1))\n",
    "        if obstacle != start and obstacle != stop:\n",
    "            obstacles.add(obstacle)\n",
    "    \n",
    "    return obstacles\n",
    "\n",
    "def make_grid(GRID_SIZE, obstacles):\n",
    "    # Create the grid\n",
    "    grid = []\n",
    "    for i in range(GRID_SIZE):\n",
    "        row = []\n",
    "        for j in range(GRID_SIZE):\n",
    "            if (i, j) == start:\n",
    "                row.append('S')\n",
    "            elif (i, j) == stop:\n",
    "                # row.append('E')\n",
    "                row.append('E')\n",
    "            elif (i, j) in obstacles:\n",
    "                row.append('\\u25A0')\n",
    "                # row.append('\\u2B1B')\n",
    "                # row.append('\\u2B15')\n",
    "            else:\n",
    "                row.append('.')\n",
    "                # row.append('\\u00B7')\n",
    "                # row.append(' ')\n",
    "                # row.append('\\u00A0\\u2022\\u00A0')\n",
    "        grid.append(row)\n",
    "\n",
    "    return grid\n",
    "\n",
    "def draw_grid(grid):\n",
    "\n",
    "    # Print the grid\n",
    "    for row in grid:\n",
    "        print(' '.join(row))\n",
    "        \n",
    "def update_grid(grid, path):\n",
    "    \n",
    "    gridup = copy.deepcopy(grid)\n",
    "    \n",
    "    # Mark the path on the grid\n",
    "    if path is not None:\n",
    "        for node in path:\n",
    "            x, y = node\n",
    "            if gridup[x][y] != 'S' and gridup[x][y] != 'E':\n",
    "                gridup[x][y] = '○' #'\\u2B55' #'\\u25EF' #'\\u25CB' #'*'\n",
    "                \n",
    "    return gridup"
   ]
  },
  {
   "cell_type": "markdown",
   "id": "e7be0517-a845-4048-8ebc-629f6ae76c76",
   "metadata": {},
   "source": [
    "### generate grid, start and stop, and obstacles"
   ]
  },
  {
   "cell_type": "code",
   "execution_count": 14,
   "id": "e4eea4ae-6321-43f5-a2f0-2bc5dc7377a1",
   "metadata": {},
   "outputs": [],
   "source": [
    "\n",
    "# Define the dimensions of the grid\n",
    "GRID_SIZE = 15\n",
    "\n",
    "# randomize the start and stop nodes\n",
    "start = (random.randint(0, GRID_SIZE-1), random.randint(0, GRID_SIZE-1))\n",
    "stop  = (random.randint(0, GRID_SIZE-1), random.randint(0, GRID_SIZE-1))\n",
    "\n",
    "# or actually just fix the start and end points. \n",
    "start = (0, 0)\n",
    "stop  = (GRID_SIZE-1, GRID_SIZE-1)\n",
    "\n",
    "# Define the number of obstacles, which is related to the grid size. \n",
    "# feel free to adjust the parameters in the formula to produce more or less obstacles\n",
    "num_obstacles = random.randint(int(GRID_SIZE*GRID_SIZE/4), int(GRID_SIZE*GRID_SIZE/2))\n",
    "\n"
   ]
  },
  {
   "cell_type": "code",
   "execution_count": 26,
   "id": "de6f98f2-cbf9-4ce6-9d3b-647654c2eb9f",
   "metadata": {},
   "outputs": [
    {
     "name": "stdout",
     "output_type": "stream",
     "text": [
      "S ■ ■ ■ ■ . ■ . ■ . ■ ■ . . ■\n",
      "■ . . ■ ■ ■ . . ■ ■ . ■ . . ■\n",
      ". ■ ■ . . . . . ■ ■ ■ ■ . . ■\n",
      ". . . . . . ■ ■ . ■ . ■ . . .\n",
      ". ■ ■ ■ . . ■ ■ ■ ■ . . ■ . .\n",
      "■ . . ■ ■ ■ . ■ ■ ■ ■ ■ . . ■\n",
      ". ■ . ■ . ■ ■ . . ■ . . ■ ■ .\n",
      "■ ■ ■ ■ ■ . . ■ . ■ ■ ■ ■ . ■\n",
      "■ ■ . ■ ■ . ■ . . . . . . . .\n",
      "■ ■ ■ ■ . . ■ ■ ■ . . . . . .\n",
      ". ■ . . . . ■ . . ■ . . ■ ■ .\n",
      ". . ■ . ■ ■ . ■ ■ . . . ■ . ■\n",
      "■ . . ■ . . . ■ ■ ■ ■ . . . .\n",
      ". ■ . . ■ . ■ ■ . . ■ . ■ ■ ■\n",
      "■ . . . ■ . . ■ ■ . . . . . E\n"
     ]
    }
   ],
   "source": [
    "# create a grid and draw it\n",
    "\n",
    "obstacles = make_obstacles(GRID_SIZE, num_obstacles, start, stop)\n",
    "mygrid    = make_grid(GRID_SIZE, obstacles)\n",
    "draw_grid(mygrid)\n"
   ]
  },
  {
   "cell_type": "markdown",
   "id": "d9baa79b-c7aa-48d5-8ab4-af05061697d6",
   "metadata": {
    "tags": []
   },
   "source": [
    "### depth-first search"
   ]
  },
  {
   "cell_type": "code",
   "execution_count": 27,
   "id": "fb0b217d-3670-4a04-954c-a8710ac77294",
   "metadata": {},
   "outputs": [
    {
     "name": "stdout",
     "output_type": "stream",
     "text": [
      "S ■ ■ ■ ■ . ■ . ■ . ■ ■ . . ■\n",
      "■ ○ . ■ ■ ■ . . ■ ■ . ■ . . ■\n",
      "○ ■ ■ . . . . . ■ ■ ■ ■ . . ■\n",
      ". ○ ○ ○ . . ■ ■ . ■ . ■ . . .\n",
      ". ■ ■ ■ ○ ○ ■ ■ ■ ■ . . ■ . .\n",
      "■ . . ■ ■ ■ ○ ■ ■ ■ ■ ■ . . ■\n",
      ". ■ . ■ . ■ ■ ○ . ■ . . ■ ■ .\n",
      "■ ■ ■ ■ ■ . . ■ ○ ■ ■ ■ ■ . ■\n",
      "■ ■ . ■ ■ . ■ . . ○ . . . . .\n",
      "■ ■ ■ ■ . . ■ ■ ■ . ○ . . . .\n",
      ". ■ . . . . ■ . . ■ . ○ ■ ■ .\n",
      ". . ■ . ■ ■ . ■ ■ . . ○ ■ . ■\n",
      "■ . . ■ . . . ■ ■ ■ ■ . ○ . .\n",
      ". ■ . . ■ . ■ ■ . . ■ ○ ■ ■ ■\n",
      "■ . . . ■ . . ■ ■ . . . ○ ○ E\n"
     ]
    }
   ],
   "source": [
    "path_DF = depth_first_search(mygrid, start, stop, obstacles)\n",
    "grid_DF = update_grid(mygrid, path_DF)\n",
    "draw_grid(grid_DF)"
   ]
  },
  {
   "cell_type": "markdown",
   "id": "432764b0-87ff-4fc1-9151-1d7af2a9f048",
   "metadata": {
    "tags": []
   },
   "source": [
    "### breadth-first search"
   ]
  },
  {
   "cell_type": "code",
   "execution_count": 13,
   "id": "77c9cd87-def3-449b-be04-e40ada6cb044",
   "metadata": {},
   "outputs": [
    {
     "name": "stdout",
     "output_type": "stream",
     "text": [
      "S ■ ○ ■ ○ ○ ■ ■ . . ■ . . . .\n",
      "■ ○ . ○ ■ ■ ○ ■ ■ . ■ . ■ ■ ■\n",
      ". . . ■ ■ ○ . ■ . . ■ . . ■ ■\n",
      ". . ■ . ■ ■ ○ ■ ■ . . . . ■ ■\n",
      ". ■ ■ ■ ■ ■ ■ ○ ○ . . ■ . . .\n",
      "■ ■ ■ . . . . ■ . ○ . . . . ■\n",
      ". ■ . ■ . . ■ ■ . ■ ○ . . ■ .\n",
      "■ . . ■ . . ■ . . . ■ ○ . ■ ■\n",
      ". ■ ■ ■ . ■ ■ ■ . . ■ ■ ○ ■ ■\n",
      "■ . ■ ■ . . ■ . . ■ . ○ ■ ■ ■\n",
      ". ■ . ■ ■ . . . ■ . . . ○ . ■\n",
      ". . . . . . . ■ . ■ ■ . ■ ○ .\n",
      ". . . . ■ ■ ■ . . ■ . ■ . ○ ■\n",
      ". . . . ■ ■ ■ ■ ■ . ■ ■ . ■ ○\n",
      ". . . ■ ■ . . ■ . ■ ■ ■ . ■ E\n"
     ]
    }
   ],
   "source": [
    "path_BF = breadth_first_search(mygrid, start, stop, obstacles)\n",
    "grid_BF = update_grid(mygrid, path_BF)\n",
    "draw_grid(grid_BF)"
   ]
  }
 ],
 "metadata": {
  "kernelspec": {
   "display_name": "Python 3 (ipykernel)",
   "language": "python",
   "name": "python3"
  },
  "language_info": {
   "codemirror_mode": {
    "name": "ipython",
    "version": 3
   },
   "file_extension": ".py",
   "mimetype": "text/x-python",
   "name": "python",
   "nbconvert_exporter": "python",
   "pygments_lexer": "ipython3",
   "version": "3.10.8"
  }
 },
 "nbformat": 4,
 "nbformat_minor": 5
}
